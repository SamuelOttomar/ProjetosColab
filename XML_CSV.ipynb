{
  "nbformat": 4,
  "nbformat_minor": 0,
  "metadata": {
    "colab": {
      "provenance": [],
      "authorship_tag": "ABX9TyMIGdv0S4+lhn8wuq4E38ao",
      "include_colab_link": true
    },
    "kernelspec": {
      "name": "python3",
      "display_name": "Python 3"
    },
    "language_info": {
      "name": "python"
    }
  },
  "cells": [
    {
      "cell_type": "markdown",
      "metadata": {
        "id": "view-in-github",
        "colab_type": "text"
      },
      "source": [
        "<a href=\"https://colab.research.google.com/github/SamuelOttomar/ProjetosColab/blob/main/XML_CSV.ipynb\" target=\"_parent\"><img src=\"https://colab.research.google.com/assets/colab-badge.svg\" alt=\"Open In Colab\"/></a>"
      ]
    },
    {
      "cell_type": "code",
      "execution_count": 2,
      "metadata": {
        "id": "PyijqtUcCEQX"
      },
      "outputs": [],
      "source": [
        "import csv\n",
        "import xml.etree.ElementTree as ET\n"
      ]
    },
    {
      "cell_type": "code",
      "source": [
        "xml_file = 'C:\\Users\\iadm\\Downloads\\export7.xml'\n",
        "csv_file = 'C:\\Users\\iadm\\Downloads\\export7.csv'\n",
        "def xml_to_csv(xml_file, csv_file):\n",
        " # Abre o arquivo XML\n",
        "  tree = ET.parse(xml_file)\n",
        "  # Define a raiz do XML\n",
        "  root = tree.getroot()\n",
        ""
      ],
      "metadata": {
        "colab": {
          "base_uri": "https://localhost:8080/",
          "height": 106
        },
        "id": "XRS4N4qECRMW",
        "outputId": "25584346-4fdb-452f-99a1-e0a8ede7ec52"
      },
      "execution_count": 4,
      "outputs": [
        {
          "output_type": "error",
          "ename": "SyntaxError",
          "evalue": "(unicode error) 'unicodeescape' codec can't decode bytes in position 2-3: truncated \\UXXXXXXXX escape (<ipython-input-4-a1f00012096b>, line 1)",
          "traceback": [
            "\u001b[0;36m  File \u001b[0;32m\"<ipython-input-4-a1f00012096b>\"\u001b[0;36m, line \u001b[0;32m1\u001b[0m\n\u001b[0;31m    xml_file = 'C:\\Users\\iadm\\Downloads\\export7.xml'\u001b[0m\n\u001b[0m                                                    ^\u001b[0m\n\u001b[0;31mSyntaxError\u001b[0m\u001b[0;31m:\u001b[0m (unicode error) 'unicodeescape' codec can't decode bytes in position 2-3: truncated \\UXXXXXXXX escape\n"
          ]
        }
      ]
    },
    {
      "cell_type": "code",
      "source": [
        " # Cria os cabeçalhos do CSV\n",
        "  with open(csv_file, 'w', newline='') as csvfile:\n",
        "    csv_writer = csv.writer(csvfile)\n",
        "    header_row = [tag.attrib.keys() for tag in root[0]]\n",
        "    csv_writer.writerow(header_row[0])\n",
        "\n",
        "    # Extrai e grava os dados em linhas do CSV\n",
        "    for row in root:\n",
        "      data_row = []\n",
        "      for tag in row:\n",
        "        data_row.append(tag.attrib.get(header_row[0][0]))\n",
        "      csv_writer.writerow(data_row)\n",
        "\n",
        "# Exemplo de uso\n",
        "xml_file = 'meu_arquivo.xml'\n",
        "csv_file = 'meu_arquivo.csv'\n",
        "xml_to_csv(xml_file, csv_file)"
      ],
      "metadata": {
        "id": "23xRom1uERwg"
      },
      "execution_count": null,
      "outputs": []
    }
  ]
}